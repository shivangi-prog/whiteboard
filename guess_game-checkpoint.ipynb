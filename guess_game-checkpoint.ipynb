{
 "cells": [
  {
   "cell_type": "markdown",
   "id": "bcf01c4b",
   "metadata": {},
   "source": [
    "# Assignment 1\n",
    "\n",
    "## Word guessing game"
   ]
  },
  {
   "cell_type": "code",
   "execution_count": null,
   "id": "ba0a1b52",
   "metadata": {},
   "outputs": [
    {
     "name": "stdout",
     "output_type": "stream",
     "text": [
      "WELCOME TO THE WORD GUESSING GAME \n",
      "WE HOPE YOU HAVE A GREAT JOURNEY.\n",
      "\n",
      "CHOICE \n",
      "PRESS 1 FOR PLAYER VS PLAYER GAME \n",
      "PRESS 2 TO PLAY WITH COMPUTER\n",
      "\n"
     ]
    }
   ],
   "source": [
    "import random as rd\n",
    "import emoji\n",
    "print(\"WELCOME TO THE WORD GUESSING GAME \\nWE HOPE YOU HAVE A GREAT JOURNEY.\\n\")\n",
    "#print(\"\\N{eye}\")\n",
    "print(\"CHOICE \\nPRESS 1 FOR PLAYER VS PLAYER GAME \\nPRESS 2 TO PLAY WITH COMPUTER\\n\")\n",
    "choices = int(input())\n",
    "if choices == 1:#player vs player game\n",
    "#player 1 giving word of its choice\n",
    "    word = input()\n",
    "elif choices == 2:#player vs computer game\n",
    "    words = [\"guess\",\"whiteboard\",\"python\",\"insight\",\"fullstack\",\"education\",\"love\",\"coronavirus\",\"quarantine\"]\n",
    "#choses random words from the above list\n",
    "    word = rd.choice(words) \n",
    "    #print(word) for my refernce\n",
    "#if user do not give any input\n",
    "else:\n",
    "    print(\"Please Choose  Option To START The Game\\n\")\n",
    "    word = input()\n",
    "spaces = ['_'] * len(word)\n",
    "#logic\n",
    "def positions(guess, word, spaces):\n",
    "    index = -2\n",
    "    while index!= -1:\n",
    "        if guess in word :\n",
    "            index = word.find(guess)\n",
    "            remove_character = '*'\n",
    "            word = word[:index] + remove_character + word[index+1:]\n",
    "            spaces[index] = guess\n",
    "        else :\n",
    "            index =-1\n",
    "    return (word,spaces)\n",
    "#win or lose 1 = yes 0 = No\n",
    "def check():\n",
    "    for i in range(len(spaces)):\n",
    "        if spaces[i] == '_':\n",
    "            return 0\n",
    "    return 1\n",
    "#giving chances to solve the problem\n",
    "num_turn = len(word)\n",
    "\n",
    "for i in range(1,num_turn+1):\n",
    "    guess = input(\"Guess The Character : \")\n",
    "    if guess in word:\n",
    "        word, spaces = positions(guess, word, spaces)\n",
    "        print(spaces)\n",
    "    else:\n",
    "        print(\"SORRY the letter is not in word\\n\")\n",
    "    if check() == 1:\n",
    "        print(\"CONGRATULATIONS YOU WON\")\n",
    "        print(\"\\U0001F973\")\n",
    "        break\n",
    "    print(\"You Have \"+str(num_turn - i)+\" Turns Left\\n\")#calculating the number of turns left \n",
    "    print()"
   ]
  },
  {
   "cell_type": "code",
   "execution_count": null,
   "id": "aa2f2e2f",
   "metadata": {},
   "outputs": [],
   "source": []
  },
  {
   "cell_type": "code",
   "execution_count": null,
   "id": "3c9ac18b",
   "metadata": {},
   "outputs": [],
   "source": []
  }
 ],
 "metadata": {
  "kernelspec": {
   "display_name": "Python 3",
   "language": "python",
   "name": "python3"
  },
  "language_info": {
   "codemirror_mode": {
    "name": "ipython",
    "version": 3
   },
   "file_extension": ".py",
   "mimetype": "text/x-python",
   "name": "python",
   "nbconvert_exporter": "python",
   "pygments_lexer": "ipython3",
   "version": "3.8.8"
  }
 },
 "nbformat": 4,
 "nbformat_minor": 5
}
